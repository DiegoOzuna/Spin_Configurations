{
 "cells": [
  {
   "cell_type": "code",
   "execution_count": null,
   "metadata": {},
   "outputs": [],
   "source": [
    "import numpy as np\n",
    "from numpy import random\n",
    "import pandas as pd\n",
    "from tqdm import tqdm\n",
    "import multiprocessing as mp"
   ]
  },
  {
   "cell_type": "markdown",
   "metadata": {},
   "source": [
    "# This notebooks purpose is to first generate a spin glass dataset of 9x9x9 and store them.\n",
    "Additionally, this is meant to replace configMetropolis.py....\n",
    "The lattices will undergo single_spin_flip updates as also parallel tempering over 10**5 montecarlo steps. "
   ]
  },
  {
   "cell_type": "code",
   "execution_count": null,
   "metadata": {},
   "outputs": [],
   "source": [
    "maxTemp = 1.5\n",
    "temp_steps = np.arange(0.8,maxTemp,0.1)\n",
    "MonteCarloSteps = 10**5\n",
    "measureEvery = 1000\n",
    "L = 4\n",
    "\n",
    "num_disorder_configs = 1000  # The amount of disorder (aka bonds configured between the lattices) we want..."
   ]
  },
  {
   "cell_type": "code",
   "execution_count": null,
   "metadata": {},
   "outputs": [],
   "source": [
    "def calculate_overlap(s, s_prime, n):\n",
    "    \"\"\"\n",
    "    This function calculates the overlap between two spin configurations.\n",
    "    The overlap is defined as the dot product of the spin vectors divided by the total number of spins.\n",
    "\n",
    "    Parameters:\n",
    "    s (aka lattice 1): The first spin configuration.\n",
    "    s_prime (aka lattice 2): The second spin configuration.\n",
    "    n: the dimension of the lattice (nxnxn) Ex:(if 3x3x3 then n=3)\n",
    "\n",
    "    Returns:\n",
    "    The overlap between the two spin configurations.\n",
    "    \"\"\"\n",
    "    N = n ** 3 #the dimension n^3 because three dimensional\n",
    "    s = np.array(s)\n",
    "    s_prime = np.array(s_prime)\n",
    "    q = np.sum(s * s_prime) / N\n",
    "    return q"
   ]
  },
  {
   "cell_type": "code",
   "execution_count": null,
   "metadata": {},
   "outputs": [],
   "source": [
    "# Initialize an empty dictionary\n",
    "results = {temp: {'spins1': [], 'spins2': []} for temp in temp_steps}"
   ]
  },
  {
   "cell_type": "code",
   "execution_count": null,
   "metadata": {},
   "outputs": [],
   "source": [
    "import multiprocessing as mp\n",
    "from worker import worker\n",
    "\n",
    "params = (L, MonteCarloSteps, temp_steps, measureEvery)\n",
    "with mp.Pool(mp.cpu_count()) as pool:\n",
    "    results_list = pool.map(worker, [params]*num_disorder_configs)"
   ]
  },
  {
   "cell_type": "code",
   "execution_count": null,
   "metadata": {},
   "outputs": [],
   "source": [
    "for spins1, spins2 in results_list:\n",
    "    for temp in temp_steps:\n",
    "        results[temp]['spins1'].append(spins1[temp])\n",
    "        results[temp]['spins2'].append(spins2[temp])"
   ]
  },
  {
   "cell_type": "code",
   "execution_count": null,
   "metadata": {},
   "outputs": [],
   "source": [
    "results"
   ]
  },
  {
   "cell_type": "code",
   "execution_count": null,
   "metadata": {},
   "outputs": [],
   "source": [
    "# import pickle\n",
    "\n",
    "# Save the dictionary\n",
    "# with open('spinconfigurations_L4.pkl', 'wb') as f:\n",
    "#     pickle.dump(results, f)\n",
    "\n",
    "# # Load the dictionary\n",
    "# with open('spinconfigurations_L4.pkl', 'rb') as f:\n",
    "#     loaded_results = pickle.load(f)"
   ]
  },
  {
   "cell_type": "code",
   "execution_count": null,
   "metadata": {},
   "outputs": [],
   "source": [
    "overlap = {} #defining dictionary to hold the lists of overlap values at each temperature...\n",
    "\n",
    "for temp in results:\n",
    "    overlap[temp] = [calculate_overlap(s1, s2, 4) for s1, s2 in zip(results[temp]['spins1'], results[temp]['spins2'])]\n"
   ]
  },
  {
   "cell_type": "code",
   "execution_count": null,
   "metadata": {},
   "outputs": [],
   "source": [
    "#overlap"
   ]
  },
  {
   "cell_type": "code",
   "execution_count": null,
   "metadata": {},
   "outputs": [],
   "source": [
    "import matplotlib.pyplot as plt\n",
    "\n",
    "# Assuming temperatures are sorted\n",
    "temperatures = sorted(overlap.keys())\n",
    "\n",
    "# Calculate the mean overlap for each temperature\n",
    "mean_overlaps = [np.mean(overlap[temp]) for temp in temperatures]\n",
    "\n",
    "plt.figure(figsize=(10, 6))\n",
    "plt.plot(temperatures, mean_overlaps, marker='o')\n",
    "plt.xlabel('Temperature')\n",
    "plt.ylabel('Mean Overlap')\n",
    "plt.title('Mean Overlap vs Temperature')\n",
    "plt.grid(True)\n",
    "plt.show()\n"
   ]
  }
 ],
 "metadata": {
  "kernelspec": {
   "display_name": "base",
   "language": "python",
   "name": "python3"
  },
  "language_info": {
   "codemirror_mode": {
    "name": "ipython",
    "version": 3
   },
   "file_extension": ".py",
   "mimetype": "text/x-python",
   "name": "python",
   "nbconvert_exporter": "python",
   "pygments_lexer": "ipython3",
   "version": "3.12.2"
  }
 },
 "nbformat": 4,
 "nbformat_minor": 2
}
