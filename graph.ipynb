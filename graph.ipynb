{
 "cells": [
  {
   "cell_type": "code",
   "execution_count": null,
   "metadata": {},
   "outputs": [],
   "source": [
    "import matplotlib\n",
    "import pandas as pd\n",
    "import numpy as np\n",
    "import matplotlib.pyplot as plt\n",
    "import csv"
   ]
  },
  {
   "cell_type": "code",
   "execution_count": null,
   "metadata": {},
   "outputs": [],
   "source": [
    "# List of datasets being used.\n",
    "datasets = ['Magnetization_4x4_v1.csv', 'magnetization_4x4.csv', 'Magnetization_8x8_v1.csv', 'Magnetization_8x8.csv', 'Magnetization_16x16_v1.csv', 'Magnetization_16x16.csv',  'Magnetization_32x32_v1.csv', 'Magnetization_32x32.csv']"
   ]
  },
  {
   "cell_type": "code",
   "execution_count": null,
   "metadata": {},
   "outputs": [],
   "source": [
    "# Define the temperatures\n",
    "temperatures = np.arange(1, 5, 0.5)\n",
    "\n",
    "# Create a figure with a subplot for each temperature\n",
    "fig, axs = plt.subplots(len(temperatures), figsize=(10, 5*len(temperatures)))\n",
    "\n",
    "# Loop over the temperatures\n",
    "for i, temp in enumerate(temperatures):\n",
    "    # Loop over the datasets\n",
    "    for j, dataset in enumerate(datasets):\n",
    "        # Load the data into a DataFrame\n",
    "        df = pd.read_csv(dataset)\n",
    "\n",
    "        # Sort the frame to be in ascending temp order\n",
    "        df = df.sort_values('Temperature', ascending=True)\n",
    "        df = df.reset_index(drop=True)\n",
    "\n",
    "        # Convert\n",
    "        df['Magnetization'] = df['Magnetization'].apply(lambda x: list(map(float, x.strip('[]').split(','))))\n",
    "\n",
    "        # Select the row for the specific temperature\n",
    "        row = df[df['Temperature'] == temp].iloc[0]\n",
    "\n",
    "        # Plot the Magnetization values against their indices\n",
    "        axs[i].plot(range(len(row['Magnetization'])), row['Magnetization'], marker='o', label=f'Dataset: {dataset}')\n",
    "\n",
    "    axs[i].set_title(f'Temperature: {temp}')\n",
    "    axs[i].set_xlabel('Index')\n",
    "    axs[i].set_ylabel('Magnetization')\n",
    "    axs[i].legend()\n",
    "\n",
    "plt.tight_layout()\n",
    "plt.show()\n"
   ]
  },
  {
   "cell_type": "code",
   "execution_count": null,
   "metadata": {},
   "outputs": [],
   "source": [
    "# Create a figure\n",
    "plt.figure(figsize=(10, 6))\n",
    "styles = ['-', '--', '-.', ':']\n",
    "# Loop over the datasets\n",
    "for dataset in datasets:\n",
    "    # Load the data into a DataFrame\n",
    "    df = pd.read_csv(dataset)\n",
    "    \n",
    "    # Sort the frame to be in ascending temp order\n",
    "    df = df.sort_values('Temperature', ascending=True)\n",
    "    df = df.reset_index(drop=True)\n",
    "\n",
    "    #convert\n",
    "    df['Magnetization'] =df['Magnetization'].apply(lambda x: list(map(float, x.strip('[]').split(','))))\n",
    "\n",
    "    # Calculate the absolute average magnetization for each temperature\n",
    "    df['Average_Magnetization'] = df['Magnetization'].apply(lambda x: np.mean(np.abs(x)))\n",
    "\n",
    "    # Plot the absolute average magnetization vs temperature\n",
    "    plt.plot(df['Temperature'], df['Average_Magnetization'], marker='o', label=dataset,linestyle=styles[2], linewidth=0.5, alpha=0.7)\n",
    "\n",
    "# Add title, labels, and legend\n",
    "plt.title('Absolute Average Magnetization vs Temperature')\n",
    "plt.xlabel('Temperature')\n",
    "plt.ylabel('Absolute Average Magnetization')\n",
    "plt.legend()\n",
    "plt.grid(True)\n",
    "plt.show()"
   ]
  },
  {
   "cell_type": "code",
   "execution_count": null,
   "metadata": {},
   "outputs": [],
   "source": []
  }
 ],
 "metadata": {
  "kernelspec": {
   "display_name": "Python 3",
   "language": "python",
   "name": "python3"
  },
  "language_info": {
   "codemirror_mode": {
    "name": "ipython",
    "version": 3
   },
   "file_extension": ".py",
   "mimetype": "text/x-python",
   "name": "python",
   "nbconvert_exporter": "python",
   "pygments_lexer": "ipython3",
   "version": "3.12.2"
  }
 },
 "nbformat": 4,
 "nbformat_minor": 2
}
